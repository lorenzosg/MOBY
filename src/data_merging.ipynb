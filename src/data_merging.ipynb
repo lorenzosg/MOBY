{
 "cells": [
  {
   "cell_type": "code",
   "execution_count": 378,
   "id": "42e78ad8",
   "metadata": {},
   "outputs": [
    {
     "name": "stdout",
     "output_type": "stream",
     "text": [
      "         hrhhid  hrmonth  hrhhid2  gestfips  prtage  pesex  peeduca  ptdtrace  \\\n",
      "0    4795110719        1     6011         1      71      1       42         1   \n",
      "1    4795110719        1     6011         1      64      2       40         1   \n",
      "2   71691004941        1     6111         1      72      1       40         1   \n",
      "3   71691004941        1     6111         1      73      2       40         1   \n",
      "4  110116792163        1     8011         1      66      1       43         1   \n",
      "\n",
      "   pulineno  peernlab  peio1ocd  \n",
      "0         1        -1        -1  \n",
      "1         2        -1        -1  \n",
      "2         1        -1      9140  \n",
      "3         2        -1        -1  \n",
      "4         1        -1      4920  \n",
      "         hrhhid  hrmonth  hrhhid2  gestfips  prtage  pesex  peeduca  ptdtrace  \\\n",
      "0    4795110719        1     9011         1      68      1       38         2   \n",
      "1    4795110719        1     9011         1      64      2       40         2   \n",
      "2  110116792163        1     8011         1      -1     -1       -1        -1   \n",
      "3  110177987986        1     8011         1      64      1       40         2   \n",
      "4  110177987986        1     8011         1      59      2       39         2   \n",
      "\n",
      "   pulineno  peernlab  peio1ocd  \n",
      "0         1        -1        -1  \n",
      "1         2        -1      7750  \n",
      "2        -1        -1        -1  \n",
      "3         1        -1        -1  \n",
      "4         2        -1      5400  \n"
     ]
    }
   ],
   "source": [
    "import pandas as pd\n",
    "\n",
    "columns_to_read = [\"hrhhid\", \"hrhhid2\", \"peio1ocd\", \"ptdtrace\", \"hrhhid\", \"pulineno\", \"hrmonth\", \"gestfips\", \"pesex\", \"prtage\", \"peeduca\", \"peernlab\"]\n",
    "csv_files = ['../data/cpsb201801.csv', '../data/cpsb201804.csv', '../data/cpsb201808.csv', '../data/cpsb201812.csv', '../data/cpsb201901.csv', '../data/cpsb201904.csv', '../data/cpsb201908.csv', '../data/cpsb201912.csv']\n",
    "\n",
    "\n",
    "dfs_18 = []\n",
    "dfs_19 = []\n",
    "\n",
    "for file in csv_files:\n",
    "    if '2018' in file:\n",
    "        df = pd.read_csv(file, usecols=columns_to_read)\n",
    "        dfs_18.append(df)\n",
    "    else: \n",
    "        df = pd.read_csv(file, usecols=columns_to_read)\n",
    "        dfs_19.append(df)\n",
    "\n",
    "\n",
    "combined_df_18 = pd.concat(dfs_18, ignore_index=True)\n",
    "combined_df_19 = pd.concat(dfs_19, ignore_index=True)\n",
    "\n",
    "combined_df_18.loc[combined_df_18['peio1ocd'] == '-1', 'pesex']\n",
    "\n",
    "print(combined_df_18.head())\n",
    "print(combined_df_19.head())\n",
    "\n"
   ]
  },
  {
   "cell_type": "code",
   "execution_count": 237,
   "id": "7a8ae75d",
   "metadata": {},
   "outputs": [],
   "source": [
    "import numpy as np"
   ]
  },
  {
   "cell_type": "code",
   "execution_count": 29,
   "id": "524cebe3",
   "metadata": {},
   "outputs": [],
   "source": [
    "sex = combined_df_18.loc[combined_df_18['peio1ocd'] == -1, 'pesex']\n",
    "age = combined_df_18.loc[combined_df_18['peio1ocd'] == -1, 'prtage']"
   ]
  },
  {
   "cell_type": "code",
   "execution_count": 32,
   "id": "562c1e01",
   "metadata": {},
   "outputs": [
    {
     "data": {
      "text/plain": [
       "(array([128077.,  56355.,  18545.,  10203.,   8893.,   9370.,  14741.,\n",
       "         25022.,  32572.,  26285.]),\n",
       " array([-1. ,  7.6, 16.2, 24.8, 33.4, 42. , 50.6, 59.2, 67.8, 76.4, 85. ]),\n",
       " <BarContainer object of 10 artists>)"
      ]
     },
     "execution_count": 32,
     "metadata": {},
     "output_type": "execute_result"
    },
    {
     "data": {
      "image/png": "[encoded data removed]",
      "text/plain": [
       "<Figure size 432x288 with 1 Axes>"
      ]
     },
     "metadata": {
      "needs_background": "light"
     },
     "output_type": "display_data"
    }
   ],
   "source": [
    "import matplotlib.pyplot as plt\n",
    "\n",
    "#comparing the age distribution of the full sample and those who did not report an occupation. \n",
    "#They skew old and young which makes sense because they make up a solid portion of the unemployed population. \n",
    "\n",
    "plt.hist(combined_df_18['prtage'])\n",
    "\n",
    "\n",
    "plt.hist(age)\n",
    "\n",
    "\n"
   ]
  },
  {
   "cell_type": "code",
   "execution_count": 379,
   "id": "7affee56",
   "metadata": {},
   "outputs": [],
   "source": [
    "#getting rid of all reponses which did not report an occupation \n",
    "\n",
    "df_18_filter = combined_df_18[combined_df_18['peio1ocd'] != -1]\n",
    "df_19_filter = combined_df_19[combined_df_19['peio1ocd'] != -1]\n",
    "\n",
    "\n",
    "#merging the data\n",
    "#first need a concatination of hrhhid.1\", \"hrhhid2 which creates a unique identifier per respondent. \n",
    "\n",
    "#df_18_filter.loc[:, 'respondent_id'] = df_18_filter['hrhhid'] + df_18_filter['hrhhid2']\n",
    "#df_19_filter.loc[:, 'respondent_id'] = df_19_filter['hrhhid'] + df_19_filter['hrhhid2']\n",
    "\n",
    "\n"
   ]
  },
  {
   "cell_type": "code",
   "execution_count": 380,
   "id": "4b7853de",
   "metadata": {},
   "outputs": [
    {
     "name": "stdout",
     "output_type": "stream",
     "text": [
      "37.811650802607545% of respondents reported a job change over the 1 year period\n"
     ]
    }
   ],
   "source": [
    "transitions_df = pd.merge(df_18_filter, df_19_filter, on = ['pulineno', 'gestfips', 'pesex','ptdtrace', 'hrhhid', 'hrhhid2'], how = 'inner')\n",
    "\n",
    "new_job = []\n",
    "for job1, job2 in zip(transitions_df['peio1ocd_x'], transitions_df['peio1ocd_y']):\n",
    "    if job1 != job2:\n",
    "        new_job.append(1)\n",
    "    else:\n",
    "        new_job.append(0)\n",
    "\n",
    "transitions_df['new_job'] = new_job\n",
    "        \n",
    "print(f\"{sum(transitions_df['new_job'] == 1)/len(transitions_df) * 100}% of respondents reported a job change over the 1 year period\")\n"
   ]
  },
  {
   "cell_type": "code",
   "execution_count": 381,
   "id": "048ad474",
   "metadata": {},
   "outputs": [],
   "source": [
    "#different_rows = different_rows.reset_index(drop = True)\n",
    "\n",
    "import numpy as np\n",
    "def format_to_four_digits(value):\n",
    "    value = int(value)\n",
    "    num_digits = np.floor(np.log10(value) + 1) if value != 0 else 1  # Handle log10 for zero\n",
    "    if num_digits == 2 or num_digits == 3:\n",
    "        return f\"{value:04d}\"  \n",
    "    return value\n",
    "\n",
    "# Apply formatting function to each column\n",
    "transitions_df['peio1ocd_x'] = transitions_df['peio1ocd_x'].apply(format_to_four_digits)\n",
    "transitions_df['peio1ocd_y'] = transitions_df['peio1ocd_y'].apply(format_to_four_digits)\n",
    "\n",
    "#change to string to ensure consistency with other datasets below\n",
    "\n",
    "transitions_df['peio1ocd_x'] = transitions_df['peio1ocd_x'].astype(str)\n",
    "transitions_df['peio1ocd_y'] = transitions_df['peio1ocd_y'].astype(str)\n",
    "\n"
   ]
  },
  {
   "cell_type": "code",
   "execution_count": 329,
   "id": "a36d310c",
   "metadata": {},
   "outputs": [
    {
     "name": "stderr",
     "output_type": "stream",
     "text": [
      "/Users/lorenzogiamartino/opt/anaconda3/lib/python3.9/site-packages/openpyxl/worksheet/header_footer.py:48: UserWarning: Cannot parse header or footer so it will be ignored\n",
      "  warn(\"\"\"Cannot parse header or footer so it will be ignored\"\"\")\n"
     ]
    }
   ],
   "source": [
    "cen_soc_10 = pd.read_excel('../data/2010-occ-codes-with-crosswalk-from-2002-2011-1.xlsx', header = 0, skiprows = 4, names = ['', 'occupation', 'census', 'soc'])"
   ]
  },
  {
   "cell_type": "code",
   "execution_count": 340,
   "id": "8498c2e1",
   "metadata": {},
   "outputs": [],
   "source": [
    "#replace X's with the zeros they represent for merging\n",
    "cen_soc_10['soc'] = cen_soc_10['soc'].astype(str).str.replace(r'XX', '00').str.replace(r'X', '0')\n",
    "\n",
    "cen_soc_10['census'] = [x.strip() if isinstance(x, str) else x for x in cen_soc_10['census']]\n",
    "cen_soc_10['soc'] = [x.strip() if isinstance(x, str) else x for x in cen_soc_10['soc']]\n",
    "\n",
    "#get rid of na values \n",
    "cen_soc_10 = cen_soc_10[pd.isna(cen_soc_10['census']) == False]\n",
    "\n",
    "#get rid of industry headers \n",
    "cen_soc_10 = cen_soc_10[~cen_soc_10['census'].str.contains('-', na = False)]\n",
    "\n",
    "#\n",
    "cen_soc_10['census'] = cen_soc_10['census'].astype(str)\n",
    "cen_soc_10['soc'] = cen_soc_10['soc'].astype(str)\n"
   ]
  },
  {
   "cell_type": "code",
   "execution_count": 382,
   "id": "a11fdf7c",
   "metadata": {},
   "outputs": [],
   "source": [
    "#mapping soc codes onto census codes in the CPS data\n",
    "\n",
    "transitions_df['SOC_18'] = transitions_df['peio1ocd_x'].map(cen_soc_10.set_index('census')['soc'])\n",
    "transitions_df['SOC_19'] = transitions_df['peio1ocd_y'].map(cen_soc_10.set_index('census')['soc'])\n",
    "\n",
    "\n",
    "#no SOC code for census code 9840 for general military occupations so getting rid of these very few transitions. \n",
    "#Loosing 134686 - 132700 = 1986 observations. \n",
    "\n",
    "transitions_df = transitions_df[(transitions_df['peio1ocd_x'] != '4700') | (transitions_df['peio1ocd_y'] != '4700')]"
   ]
  },
  {
   "cell_type": "code",
   "execution_count": 367,
   "id": "da503386",
   "metadata": {},
   "outputs": [],
   "source": [
    "wage_df = pd.read_excel('../data/national_M2018_dl.xlsx', usecols = ['OCC_CODE', 'A_MEAN', 'A_MEDIAN'])\n",
    "\n",
    "#make sure occ codes are clean and of type str\n",
    "wage_df['OCC_CODE'] = [x.strip() for x in wage_df['OCC_CODE'].astype(str)]\n",
    "\n",
    "#master set of unique occupations in the transitions data \n",
    "occupations = set(transitions_df['SOC_18']).union(set(transitions_df['SOC_19']))\n",
    "\n",
    "#the occupations which are not represented in the wage data \n",
    "[x for x in occupations if x not in list(wage_df['OCC_CODE'])]\n",
    "\n",
    "#get rid of duplicates which exist for some reason \n",
    "wage_df = wage_df[~wage_df.duplicated(keep = 'first')]"
   ]
  },
  {
   "cell_type": "code",
   "execution_count": 383,
   "id": "b1eb7d08",
   "metadata": {},
   "outputs": [],
   "source": [
    "#changing SOC codes \"13-1021\" \"13-1022\" \"13-1023\" to \"13-1020\" to comply with 2017 aggregation as discussed in appendix.\n",
    "\n",
    "replacement = '13-1020'\n",
    "\n",
    "codes_to_replace = ['13-1022', '13-1023', '13-1021']\n",
    "\n",
    "transitions_df['SOC_18'] = [replacement if x in codes_to_replace else x for x in transitions_df['SOC_18']]\n",
    "transitions_df['SOC_19'] = [replacement if x in codes_to_replace else x for x in transitions_df['SOC_19']]\n",
    "\n"
   ]
  },
  {
   "cell_type": "code",
   "execution_count": 399,
   "id": "9bec25eb",
   "metadata": {},
   "outputs": [],
   "source": [
    "#mapping income to the original data \n",
    "\n",
    "transitions_df['mean_wage_18'] = transitions_df['SOC_18'].map(wage_df.set_index('OCC_CODE')['A_MEAN'])\n",
    "transitions_df['mean_wage_19'] = transitions_df['SOC_19'].map(wage_df.set_index('OCC_CODE')['A_MEAN'])\n",
    "\n",
    "\n"
   ]
  },
  {
   "cell_type": "code",
   "execution_count": 435,
   "id": "c6122927",
   "metadata": {},
   "outputs": [],
   "source": [
    "#now reading in ONET data \n",
    "dwa_df = pd.read_excel(\"../data/Tasks to DWAs.xlsx\", usecols = ['O*NET-SOC Code', 'DWA Title'], dtype={'O*NET-SOC Code': str})\n",
    "dwa_df.rename(columns={'O*NET-SOC Code': 'onet', 'DWA Title': 'dwa'}, inplace=True)\n",
    "dwa_df['bool'] = 1\n",
    "\n",
    "\n"
   ]
  },
  {
   "cell_type": "code",
   "execution_count": 436,
   "id": "91f485fb",
   "metadata": {},
   "outputs": [],
   "source": [
    "#creating crosswalk from SOC to ONET data \n",
    "dwa_df['onet'] = [x.strip() for x in dwa_df['onet']]\n",
    "\n",
    "\n",
    "\n",
    "\n"
   ]
  },
  {
   "cell_type": "code",
   "execution_count": 437,
   "id": "d1d2e9cb",
   "metadata": {},
   "outputs": [
    {
     "data": {
      "text/plain": [
       "'1'"
      ]
     },
     "execution_count": 437,
     "metadata": {},
     "output_type": "execute_result"
    }
   ],
   "source": [
    "dwa_df['onet'][0][-4]"
   ]
  },
  {
   "cell_type": "code",
   "execution_count": 420,
   "id": "b35d833a",
   "metadata": {},
   "outputs": [],
   "source": [
    "all_occupations = set(transitions_df['SOC_18']).union(set(transitions_df['SOC_19']))"
   ]
  },
  {
   "cell_type": "code",
   "execution_count": 421,
   "id": "7c4b74f3",
   "metadata": {},
   "outputs": [
    {
     "ename": "TypeError",
     "evalue": "'float' object is not subscriptable",
     "output_type": "error",
     "traceback": [
      "\u001b[0;31m---------------------------------------------------------------------------\u001b[0m",
      "\u001b[0;31mTypeError\u001b[0m                                 Traceback (most recent call last)",
      "Input \u001b[0;32mIn [421]\u001b[0m, in \u001b[0;36m<cell line: 16>\u001b[0;34m()\u001b[0m\n\u001b[1;32m     11\u001b[0m         crosswalk_dict[\u001b[38;5;124m'\u001b[39m\u001b[38;5;124msoc\u001b[39m\u001b[38;5;124m'\u001b[39m]\u001b[38;5;241m.\u001b[39mappend(code[:\u001b[38;5;241m7\u001b[39m])\n\u001b[1;32m     16\u001b[0m \u001b[38;5;28;01mfor\u001b[39;00m i, code \u001b[38;5;129;01min\u001b[39;00m \u001b[38;5;28menumerate\u001b[39m(all_occupations):\n\u001b[0;32m---> 17\u001b[0m     \u001b[38;5;28;01mif\u001b[39;00m \u001b[43mcode\u001b[49m\u001b[43m[\u001b[49m\u001b[38;5;241;43m-\u001b[39;49m\u001b[38;5;241;43m1\u001b[39;49m\u001b[43m]\u001b[49m \u001b[38;5;241m==\u001b[39m \u001b[38;5;124m'\u001b[39m\u001b[38;5;124m9\u001b[39m\u001b[38;5;124m'\u001b[39m:\n\u001b[1;32m     18\u001b[0m         [x \u001b[38;5;28;01mfor\u001b[39;00m x \u001b[38;5;129;01min\u001b[39;00m dwa_df[\u001b[38;5;124m'\u001b[39m\u001b[38;5;124monet\u001b[39m\u001b[38;5;124m'\u001b[39m] \u001b[38;5;28;01mif\u001b[39;00m x[\u001b[38;5;241m-\u001b[39m\u001b[38;5;241m3\u001b[39m] \u001b[38;5;241m==\u001b[39m code]\n",
      "\u001b[0;31mTypeError\u001b[0m: 'float' object is not subscriptable"
     ]
    }
   ],
   "source": [
    "crosswalk_dict = {'onet': [], 'soc': []}\n",
    "for i, code in enumerate(dwa_df['onet']):\n",
    "    if code[8:] == '00':\n",
    "        crosswalk_dict['onet'].append(code)\n",
    "        crosswalk_dict['soc'].append(code[:7])\n",
    "    if code[-1] == '9':\n",
    "        \n",
    "        \n",
    "        \n",
    "        crosswalk_dict['onet'].append(code)\n",
    "        crosswalk_dict['soc'].append(code[:7])\n",
    "        \n",
    "  \n",
    "        \n",
    "        \n",
    "for i, code in enumerate(all_occupations):\n",
    "    if code[-1] == '9':\n",
    "        [x for x in dwa_df['onet'] if x[-4] == code]\n",
    "        \n",
    "        \n",
    "        \n",
    "        "
   ]
  },
  {
   "cell_type": "code",
   "execution_count": 439,
   "id": "d86fa2d5",
   "metadata": {},
   "outputs": [
    {
     "name": "stdout",
     "output_type": "stream",
     "text": [
      "0\n",
      "nan\n"
     ]
    },
    {
     "ename": "TypeError",
     "evalue": "'float' object is not subscriptable",
     "output_type": "error",
     "traceback": [
      "\u001b[0;31m---------------------------------------------------------------------------\u001b[0m",
      "\u001b[0;31mTypeError\u001b[0m                                 Traceback (most recent call last)",
      "Input \u001b[0;32mIn [439]\u001b[0m, in \u001b[0;36m<cell line: 1>\u001b[0;34m()\u001b[0m\n\u001b[1;32m      2\u001b[0m \u001b[38;5;28mprint\u001b[39m(i)\n\u001b[1;32m      3\u001b[0m \u001b[38;5;28mprint\u001b[39m(code)\n\u001b[0;32m----> 4\u001b[0m \u001b[38;5;28;01mif\u001b[39;00m \u001b[43mcode\u001b[49m\u001b[43m[\u001b[49m\u001b[38;5;241;43m-\u001b[39;49m\u001b[38;5;241;43m1\u001b[39;49m\u001b[43m]\u001b[49m \u001b[38;5;241m==\u001b[39m \u001b[38;5;124m'\u001b[39m\u001b[38;5;124m9\u001b[39m\u001b[38;5;124m'\u001b[39m:\n\u001b[1;32m      5\u001b[0m     [x \u001b[38;5;28;01mfor\u001b[39;00m x \u001b[38;5;129;01min\u001b[39;00m dwa_df[\u001b[38;5;124m'\u001b[39m\u001b[38;5;124monet\u001b[39m\u001b[38;5;124m'\u001b[39m] \u001b[38;5;28;01mif\u001b[39;00m x[\u001b[38;5;241m-\u001b[39m\u001b[38;5;241m4\u001b[39m] \u001b[38;5;241m==\u001b[39m code]\n",
      "\u001b[0;31mTypeError\u001b[0m: 'float' object is not subscriptable"
     ]
    }
   ],
   "source": [
    "for i, code in enumerate(all_occupations):\n",
    "    print(i)\n",
    "    print(code)\n",
    "    if code[-1] == '9':\n",
    "        [x for x in dwa_df['onet'] if x[-4] == code]"
   ]
  },
  {
   "cell_type": "code",
   "execution_count": 443,
   "id": "91cc9a77",
   "metadata": {},
   "outputs": [
    {
     "data": {
      "text/plain": [
       "0"
      ]
     },
     "execution_count": 443,
     "metadata": {},
     "output_type": "execute_result"
    }
   ],
   "source": [
    "sum(transitions_df['SOC_19'] == 'nan')"
   ]
  }
 ],
 "metadata": {
  "kernelspec": {
   "display_name": "Python 3 (ipykernel)",
   "language": "python",
   "name": "python3"
  },
  "language_info": {
   "codemirror_mode": {
    "name": "ipython",
    "version": 3
   },
   "file_extension": ".py",
   "mimetype": "text/x-python",
   "name": "python",
   "nbconvert_exporter": "python",
   "pygments_lexer": "ipython3",
   "version": "3.9.12"
  }
 },
 "nbformat": 4,
 "nbformat_minor": 5
}
