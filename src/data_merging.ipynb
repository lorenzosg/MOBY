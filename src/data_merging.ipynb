{
 "cells": [
  {
   "cell_type": "code",
   "execution_count": 11,
   "id": "2b46e6dd",
   "metadata": {},
   "outputs": [
    {
     "name": "stdout",
     "output_type": "stream",
     "text": [
      "         hrhhid  hrmonth  hrhhid2  gestfips  prtage  pesex  peeduca  ptdtrace  \\\n",
      "0    4795110719        1     6011         1      71      1       42         1   \n",
      "1    4795110719        1     6011         1      64      2       40         1   \n",
      "2   71691004941        1     6111         1      72      1       40         1   \n",
      "3   71691004941        1     6111         1      73      2       40         1   \n",
      "4  110116792163        1     8011         1      66      1       43         1   \n",
      "\n",
      "   pulineno  peernlab  peio1ocd  \n",
      "0         1        -1        -1  \n",
      "1         2        -1        -1  \n",
      "2         1        -1      9140  \n",
      "3         2        -1        -1  \n",
      "4         1        -1      4920  \n",
      "         hrhhid  hrmonth  hrhhid2  gestfips  prtage  pesex  peeduca  ptdtrace  \\\n",
      "0    4795110719        1     9011         1      68      1       38         2   \n",
      "1    4795110719        1     9011         1      64      2       40         2   \n",
      "2  110116792163        1     8011         1      -1     -1       -1        -1   \n",
      "3  110177987986        1     8011         1      64      1       40         2   \n",
      "4  110177987986        1     8011         1      59      2       39         2   \n",
      "\n",
      "   pulineno  peernlab  peio1ocd  \n",
      "0         1        -1        -1  \n",
      "1         2        -1      7750  \n",
      "2        -1        -1        -1  \n",
      "3         1        -1        -1  \n",
      "4         2        -1      5400  \n"
     ]
    }
   ],
   "source": [
    "import pandas as pd\n",
    "\n",
    "\n",
    "columns_to_read = [\"hrhhid\", \"hrhhid2\", \"peio1ocd\", \"ptdtrace\", \"hrhhid\", \"pulineno\", \"hrmonth\", \"gestfips\", \"pesex\", \"prtage\", \"peeduca\", \"peernlab\"]\n",
    "csv_files = ['../data/cpsb201801.csv', '../data/cpsb201804.csv', '../data/cpsb201808.csv', '../data/cpsb201812.csv', '../data/cpsb201901.csv', '../data/cpsb201904.csv', '../data/cpsb201908.csv', '../data/cpsb201912.csv']\n",
    "\n",
    "\n",
    "dfs_18 = []\n",
    "dfs_19 = []\n",
    "\n",
    "for file in csv_files:\n",
    "    if '2018' in file:\n",
    "        df = pd.read_csv(file, usecols=columns_to_read)\n",
    "        dfs_18.append(df)\n",
    "    else: \n",
    "        df = pd.read_csv(file, usecols=columns_to_read)\n",
    "        dfs_19.append(df)\n",
    "\n",
    "\n",
    "combined_df_18 = pd.concat(dfs_18, ignore_index=True)\n",
    "combined_df_19 = pd.concat(dfs_19, ignore_index=True)\n",
    "\n",
    "#df.loc[df['city'] == 'New York', 'name']\n",
    "combined_df_18.loc[combined_18_df['peio1ocd'] == '-1', 'pesex']\n",
    "\n",
    "print(combined_df_18.head())\n",
    "print(combined_df_19.head())\n",
    "\n"
   ]
  },
  {
   "cell_type": "code",
   "execution_count": 29,
   "id": "1e78da94",
   "metadata": {},
   "outputs": [],
   "source": [
    "sex = combined_df_18.loc[combined_df_18['peio1ocd'] == -1, 'pesex']\n",
    "age = combined_df_18.loc[combined_df_18['peio1ocd'] == -1, 'prtage']"
   ]
  },
  {
   "cell_type": "code",
   "execution_count": 32,
   "id": "69a8e193",
   "metadata": {},
   "outputs": [
    {
     "data": {
      "text/plain": [
       "(array([128077.,  56355.,  18545.,  10203.,   8893.,   9370.,  14741.,\n",
       "         25022.,  32572.,  26285.]),\n",
       " array([-1. ,  7.6, 16.2, 24.8, 33.4, 42. , 50.6, 59.2, 67.8, 76.4, 85. ]),\n",
       " <BarContainer object of 10 artists>)"
      ]
     },
     "execution_count": 32,
     "metadata": {},
     "output_type": "execute_result"
    },
    {
     "data": {
      "image/png": "[encoded data removed]",
      "text/plain": [
       "<Figure size 432x288 with 1 Axes>"
      ]
     },
     "metadata": {
      "needs_background": "light"
     },
     "output_type": "display_data"
    }
   ],
   "source": [
    "import matplotlib.pyplot as plt\n",
    "\n",
    "#comparing the age distribution of the full sample and those who did not report an occupation. \n",
    "#They skew old and young which makes sense because they make up a solid portion of the unemployed population. \n",
    "\n",
    "plt.hist(combined_df_18['prtage'])\n",
    "plt.hist(age)"
   ]
  }
 ],
 "metadata": {
  "kernelspec": {
   "display_name": "Python 3 (ipykernel)",
   "language": "python",
   "name": "python3"
  },
  "language_info": {
   "codemirror_mode": {
    "name": "ipython",
    "version": 3
   },
   "file_extension": ".py",
   "mimetype": "text/x-python",
   "name": "python",
   "nbconvert_exporter": "python",
   "pygments_lexer": "ipython3",
   "version": "3.9.12"
  }
 },
 "nbformat": 4,
 "nbformat_minor": 5
}
